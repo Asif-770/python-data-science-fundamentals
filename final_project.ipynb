{
 "cells": [
  {
   "cell_type": "markdown",
   "id": "08a7dcfd-753a-4c2e-86c0-d05b386c836d",
   "metadata": {},
   "source": [
    "# Data Science Tools and Ecosystem"
   ]
  },
  {
   "cell_type": "markdown",
   "id": "5cf96843-9490-4875-82b2-0f39de6e76f1",
   "metadata": {},
   "source": [
    "In this notebook, we summarize some of the essential tools, languages, and libraries used by data scientists."
   ]
  },
  {
   "cell_type": "markdown",
   "id": "2147537c-7a19-482a-8634-6f58c1dcebf0",
   "metadata": {},
   "source": [
    "## Commonly used Data Science Languages:\n",
    "\n",
    "1. Python  \n",
    "2. R  \n",
    "3. SQL  \n",
    "4. Julia  \n",
    "5. Scala"
   ]
  },
  {
   "cell_type": "markdown",
   "id": "65be91e2-a05f-402b-8aeb-fb9dca216821",
   "metadata": {},
   "source": [
    "## Commonly used Data Science Libraries:\n",
    "\n",
    "1. NumPy  \n",
    "2. Pandas  \n",
    "3. Scikit-learn  \n",
    "4. TensorFlow  \n",
    "5. ggplot2"
   ]
  },
  {
   "cell_type": "markdown",
   "id": "c083a610-6b0c-45d0-9aed-42eeb8a74453",
   "metadata": {},
   "source": [
    "## Popular Data Science Tools\n",
    "\n",
    "| Tool Name     | Category             |\n",
    "|---------------|----------------------|\n",
    "| JupyterLab    | Notebook Environment |\n",
    "| RStudio       | IDE                  |\n",
    "| Apache Spark  | Big Data Processing  |\n",
    "| TensorFlow    | Deep Learning        |\n",
    "| KNIME         | Data Analytics       |"
   ]
  },
  {
   "cell_type": "markdown",
   "id": "ecfb1592-9377-4b09-a3bf-dd519d9ea452",
   "metadata": {},
   "source": [
    "## Examples of evaluating arithmetic expressions in Python:"
   ]
  },
  {
   "cell_type": "code",
   "execution_count": 1,
   "id": "80a5c4a1-cc43-470e-87d8-95535b0ecfe8",
   "metadata": {},
   "outputs": [
    {
     "data": {
      "text/plain": [
       "23"
      ]
     },
     "execution_count": 1,
     "metadata": {},
     "output_type": "execute_result"
    }
   ],
   "source": [
    "# This will multiply 5 by 4 and then add 3\n",
    "(5 * 4) + 3\n"
   ]
  },
  {
   "cell_type": "code",
   "execution_count": 2,
   "id": "fc9e0e6f-ed36-4ec6-9b29-ca29ab9f530f",
   "metadata": {},
   "outputs": [
    {
     "data": {
      "text/plain": [
       "3.3333333333333335"
      ]
     },
     "execution_count": 2,
     "metadata": {},
     "output_type": "execute_result"
    }
   ],
   "source": [
    "# Convert 200 minutes to hours\n",
    "minutes = 200\n",
    "hours = minutes / 60\n",
    "hours"
   ]
  },
  {
   "cell_type": "markdown",
   "id": "d909f03a-71b3-4544-a868-b5fc7018634c",
   "metadata": {},
   "source": [
    "## Objectives:\n",
    "\n",
    "- List popular languages for Data Science  \n",
    "- List commonly used libraries in Data Science  \n",
    "- Create tables using markdown  \n",
    "- Perform arithmetic operations using code cells  \n",
    "- Share notebook via GitHub"
   ]
  },
  {
   "cell_type": "markdown",
   "id": "e92e9547-7839-4658-88f2-7b8f99e45b7f",
   "metadata": {},
   "source": [
    "**Author:** Md Asif Khan\n"
   ]
  }
 ],
 "metadata": {
  "kernelspec": {
   "display_name": "Python 3 (ipykernel)",
   "language": "python",
   "name": "python3"
  },
  "language_info": {
   "codemirror_mode": {
    "name": "ipython",
    "version": 3
   },
   "file_extension": ".py",
   "mimetype": "text/x-python",
   "name": "python",
   "nbconvert_exporter": "python",
   "pygments_lexer": "ipython3",
   "version": "3.12.7"
  }
 },
 "nbformat": 4,
 "nbformat_minor": 5
}
